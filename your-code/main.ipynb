{
 "cells": [
  {
   "cell_type": "markdown",
   "metadata": {},
   "source": [
    "# Challenge: Promotions\n",
    "\n",
    "In this challenge, you'll develop codes to parse and analyze data returned from another API on Zalando such as [Promos homme (Men's Promotions)\n",
    "](https://www.zalando.fr/promo-homme/) or [Promos femme (Women's Promotions)](https://www.zalando.fr/promo-femme/). The workflow is almost the same as in the guided lesson but you'll work with different data."
   ]
  },
  {
   "cell_type": "markdown",
   "metadata": {},
   "source": [
    "## Obtaining the link\n",
    "\n",
    "Wrote your codes in the cell below to obtain the data from the API endpoint you choose. A recap of the workflow:\n",
    "\n",
    "1. Examine the webpages and choose one that you want to work with.\n",
    "\n",
    "1. Use Google Chrome's DevTools to inspect the XHR network requests. Find out the API endpoint that serves data to the webpage.\n",
    "\n",
    "1. Test the API endpoint in the browser to verify its data.\n",
    "\n",
    "1. Change the page number offset of the API URL to test if it's working."
   ]
  },
  {
   "cell_type": "code",
   "execution_count": null,
   "metadata": {},
   "outputs": [],
   "source": [
    "import json\n",
    "import requests\n",
    "import pandas as pd\n",
    "from pandas.io.json import json_normalize\n",
    "import urllib.request"
   ]
  },
  {
   "cell_type": "code",
   "execution_count": null,
   "metadata": {},
   "outputs": [],
   "source": [
    "# your code here"
   ]
  },
  {
   "cell_type": "markdown",
   "metadata": {},
   "source": [
    "## Reading the data\n",
    "\n",
    "In the next cell, use Python to obtain data from the API endpoint you chose in the previous step. Workflow:\n",
    "\n",
    "1. Import libraries.\n",
    "\n",
    "1. Define the initial API endpoint URL.\n",
    "\n",
    "1. Make request to obtain data of the 1st page. Flatten the data and store it in an empty object variable.\n",
    "\n",
    "1. Find out the total page count in the 1st page data.\n",
    "\n",
    "1. Use a FOR loop to make requests for the additional pages from 2 to page count. Append the data of each additional page to the flatterned data object.\n",
    "\n",
    "1. Print and review the data you obtained."
   ]
  },
  {
   "cell_type": "code",
   "execution_count": 2,
   "metadata": {},
   "outputs": [],
   "source": [
    "#Import libraries\n",
    "import json\n",
    "import requests\n",
    "import pandas as pd\n",
    "from pandas.io.json import json_normalize\n",
    "import urllib.request"
   ]
  },
  {
   "cell_type": "code",
   "execution_count": 3,
   "metadata": {},
   "outputs": [
    {
     "data": {
      "text/html": [
       "<div>\n",
       "<style scoped>\n",
       "    .dataframe tbody tr th:only-of-type {\n",
       "        vertical-align: middle;\n",
       "    }\n",
       "\n",
       "    .dataframe tbody tr th {\n",
       "        vertical-align: top;\n",
       "    }\n",
       "\n",
       "    .dataframe thead th {\n",
       "        text-align: right;\n",
       "    }\n",
       "</style>\n",
       "<table border=\"1\" class=\"dataframe\">\n",
       "  <thead>\n",
       "    <tr style=\"text-align: right;\">\n",
       "      <th></th>\n",
       "      <th>sku</th>\n",
       "      <th>name</th>\n",
       "      <th>sizes</th>\n",
       "      <th>url_key</th>\n",
       "      <th>media</th>\n",
       "      <th>brand_name</th>\n",
       "      <th>is_premium</th>\n",
       "      <th>family_articles</th>\n",
       "      <th>flags</th>\n",
       "      <th>product_group</th>\n",
       "      <th>delivery_promises</th>\n",
       "      <th>price.original</th>\n",
       "      <th>price.promotional</th>\n",
       "      <th>price.has_different_prices</th>\n",
       "      <th>price.has_different_original_prices</th>\n",
       "      <th>price.has_different_promotional_prices</th>\n",
       "      <th>price.has_discount_on_selected_sizes_only</th>\n",
       "      <th>outfits</th>\n",
       "      <th>amount</th>\n",
       "    </tr>\n",
       "  </thead>\n",
       "  <tbody>\n",
       "    <tr>\n",
       "      <th>0</th>\n",
       "      <td>LA222O045-C11</td>\n",
       "      <td>T-shirt imprimé - silver chine</td>\n",
       "      <td>[XS, S, M, L, XL, XXL, 3XL]</td>\n",
       "      <td>lacoste-t-shirt-imprime-silver-chine-la222o045...</td>\n",
       "      <td>[{'path': 'spp-media-p1/458091b2d9cb3b55b037b9...</td>\n",
       "      <td>Lacoste</td>\n",
       "      <td>False</td>\n",
       "      <td>[]</td>\n",
       "      <td>[{'key': 'discountRate', 'value': 'Jusqu’à -50...</td>\n",
       "      <td>clothing</td>\n",
       "      <td>[]</td>\n",
       "      <td>46,95 €</td>\n",
       "      <td>23,45 €</td>\n",
       "      <td>True</td>\n",
       "      <td>False</td>\n",
       "      <td>True</td>\n",
       "      <td>False</td>\n",
       "      <td>NaN</td>\n",
       "      <td>NaN</td>\n",
       "    </tr>\n",
       "    <tr>\n",
       "      <th>1</th>\n",
       "      <td>AD115B01K-A11</td>\n",
       "      <td>STAN SMITH - Baskets basses - run white/new navy</td>\n",
       "      <td>[36, 38, 40, 42, 44, 46, 48, 36 2/3, 37 1/3, 3...</td>\n",
       "      <td>adidas-originals-stan-smith-baskets-basses-bla...</td>\n",
       "      <td>[{'path': 'spp-media-p1/19047b3703d63f398e2d96...</td>\n",
       "      <td>adidas Originals</td>\n",
       "      <td>False</td>\n",
       "      <td>[]</td>\n",
       "      <td>[{'key': 'discountRate', 'value': 'Jusqu’à -20...</td>\n",
       "      <td>shoe</td>\n",
       "      <td>[]</td>\n",
       "      <td>94,95 €</td>\n",
       "      <td>75,95 €</td>\n",
       "      <td>True</td>\n",
       "      <td>False</td>\n",
       "      <td>True</td>\n",
       "      <td>False</td>\n",
       "      <td>NaN</td>\n",
       "      <td>NaN</td>\n",
       "    </tr>\n",
       "  </tbody>\n",
       "</table>\n",
       "</div>"
      ],
      "text/plain": [
       "             sku                                              name  \\\n",
       "0  LA222O045-C11                    T-shirt imprimé - silver chine   \n",
       "1  AD115B01K-A11  STAN SMITH - Baskets basses - run white/new navy   \n",
       "\n",
       "                                               sizes  \\\n",
       "0                        [XS, S, M, L, XL, XXL, 3XL]   \n",
       "1  [36, 38, 40, 42, 44, 46, 48, 36 2/3, 37 1/3, 3...   \n",
       "\n",
       "                                             url_key  \\\n",
       "0  lacoste-t-shirt-imprime-silver-chine-la222o045...   \n",
       "1  adidas-originals-stan-smith-baskets-basses-bla...   \n",
       "\n",
       "                                               media        brand_name  \\\n",
       "0  [{'path': 'spp-media-p1/458091b2d9cb3b55b037b9...           Lacoste   \n",
       "1  [{'path': 'spp-media-p1/19047b3703d63f398e2d96...  adidas Originals   \n",
       "\n",
       "   is_premium family_articles  \\\n",
       "0       False              []   \n",
       "1       False              []   \n",
       "\n",
       "                                               flags product_group  \\\n",
       "0  [{'key': 'discountRate', 'value': 'Jusqu’à -50...      clothing   \n",
       "1  [{'key': 'discountRate', 'value': 'Jusqu’à -20...          shoe   \n",
       "\n",
       "  delivery_promises price.original price.promotional  \\\n",
       "0                []        46,95 €           23,45 €   \n",
       "1                []        94,95 €           75,95 €   \n",
       "\n",
       "   price.has_different_prices  price.has_different_original_prices  \\\n",
       "0                        True                                False   \n",
       "1                        True                                False   \n",
       "\n",
       "   price.has_different_promotional_prices  \\\n",
       "0                                    True   \n",
       "1                                    True   \n",
       "\n",
       "   price.has_discount_on_selected_sizes_only outfits amount  \n",
       "0                                      False     NaN    NaN  \n",
       "1                                      False     NaN    NaN  "
      ]
     },
     "execution_count": 3,
     "metadata": {},
     "output_type": "execute_result"
    }
   ],
   "source": [
    "#Define URL\n",
    "url='https://www.zalando.fr/api/catalog/articles?categories=promo-homme&limit=84&offset=84'\n",
    "#Make request\n",
    "response = urllib.request.urlopen(url)\n",
    "#Abres en formato json\n",
    "results = json.load(response)\n",
    "#\"Aplanas\" todo el json en un pd df\n",
    "flattened_data = pd.json_normalize(results)\n",
    "#Aplanas el json que tiene los articulos en un pd df\n",
    "flattened_data1 = pd.json_normalize(flattened_data.articles[0])\n",
    "#Revisamos el data frame\n",
    "flattened_data1.head(2)"
   ]
  },
  {
   "cell_type": "code",
   "execution_count": 6,
   "metadata": {},
   "outputs": [
    {
     "data": {
      "text/plain": [
       "892"
      ]
     },
     "execution_count": 6,
     "metadata": {},
     "output_type": "execute_result"
    }
   ],
   "source": [
    "\"\"\"EL num d pags esta dentro del json \"results\", dentro de la llave 'pagination' que a su vez tiene la llave\n",
    "'page_count' cuyo valor estamos trayendo\"\"\"\n",
    "\n",
    "pages = results['pagination']['page_count']\n",
    "pages"
   ]
  },
  {
   "cell_type": "code",
   "execution_count": 15,
   "metadata": {},
   "outputs": [],
   "source": [
    "#Creamos df vacio\n",
    "df_men = pd.DataFrame()\n",
    "#Creamos loop para traer articulos d todaas las pags\n",
    "#hago pages/5 pq no corria con todas XD\n",
    "for i in range(int(pages/5)):\n",
    "    #creamos variable que definira la pag por medio del num d articulos\n",
    "    #84 por pag = x/84=num de pag\n",
    "    k=84*i\n",
    "    #Creamos url con format para ir cambiando pag con la variable k\n",
    "    url=f'https://www.zalando.fr/api/catalog/articles?categories=promo-homme&limit=84&offset={k}'\n",
    "    #Make request\n",
    "    response = urllib.request.urlopen(url)\n",
    "    #Abres en formato json\n",
    "    results = json.load(response)\n",
    "    #\"Aplanas\" todo el json en un pd df\n",
    "    flattened_data = pd.json_normalize(results)\n",
    "    #Aplanas el json que tiene los articulos en un pd df\n",
    "    flattened_data1 = pd.json_normalize(flattened_data.articles[0])\n",
    "    #Ponemos el sku como indice\n",
    "    flattened_data1=flattened_data1.set_index('sku')\n",
    "    #Agregamos el df generado en cada pag a un df maestro\n",
    "    df_men=df_men.append(flattened_data1)"
   ]
  },
  {
   "cell_type": "markdown",
   "metadata": {},
   "source": [
    "## Bonus\n",
    "\n",
    "Extract the following information from the data:\n",
    "\n",
    "* The trending brand.\n",
    "\n",
    "* The product(s) with the highest discount.\n",
    "\n",
    "* The sum of discounts of all goods (sum_discounted_prices divided by sum_original_prices)."
   ]
  },
  {
   "cell_type": "code",
   "execution_count": 26,
   "metadata": {},
   "outputs": [
    {
     "data": {
      "text/plain": [
       "Pier One    678\n",
       "Name: brand_name, dtype: int64"
      ]
     },
     "execution_count": 26,
     "metadata": {},
     "output_type": "execute_result"
    }
   ],
   "source": [
    "#Creas series solo con el numero d veces q aparece cada marca y sacas el mas alto\n",
    "\n",
    "df_men.brand_name.value_counts().head(1)"
   ]
  },
  {
   "cell_type": "code",
   "execution_count": 28,
   "metadata": {},
   "outputs": [],
   "source": [
    "#Cambiamos los datos a numero\n",
    "#Quitamos todo lo q no sean digitos \n",
    "df_men['price.original']=df_men['price.original'].str.extract('(\\d*,\\d*)')\n",
    "df_men['price.promotional']=df_men['price.promotional'].str.extract('(\\d*,\\d*)')\n",
    "#cambiamos , por . pq nomenclatura europea\n",
    "df_men['price.original'] = [x.replace(',', '.') for x in df_men['price.original']]\n",
    "df_men['price.promotional'] = [x.replace(',', '.') for x in df_men['price.promotional']]\n",
    "#Creamos una columna calculada con el descuento cambiando a float los dos precios original y promocional y restandolos\n",
    "df_men['discount_amount']=df_men['price.original'].astype(float)-df_men['price.promotional'].astype(float)"
   ]
  },
  {
   "cell_type": "code",
   "execution_count": 46,
   "metadata": {},
   "outputs": [
    {
     "data": {
      "text/html": [
       "<div>\n",
       "<style scoped>\n",
       "    .dataframe tbody tr th:only-of-type {\n",
       "        vertical-align: middle;\n",
       "    }\n",
       "\n",
       "    .dataframe tbody tr th {\n",
       "        vertical-align: top;\n",
       "    }\n",
       "\n",
       "    .dataframe thead th {\n",
       "        text-align: right;\n",
       "    }\n",
       "</style>\n",
       "<table border=\"1\" class=\"dataframe\">\n",
       "  <thead>\n",
       "    <tr style=\"text-align: right;\">\n",
       "      <th></th>\n",
       "      <th>name</th>\n",
       "      <th>discount_amount</th>\n",
       "    </tr>\n",
       "    <tr>\n",
       "      <th>sku</th>\n",
       "      <th></th>\n",
       "      <th></th>\n",
       "    </tr>\n",
       "  </thead>\n",
       "  <tbody>\n",
       "    <tr>\n",
       "      <th>DI122T049-K11</th>\n",
       "      <td>L-MAY JACKET - Veste en cuir - blue</td>\n",
       "      <td>298.0</td>\n",
       "    </tr>\n",
       "    <tr>\n",
       "      <th>CAR22A00I-K11</th>\n",
       "      <td>TROPICAL SLIM SUIT - Costume - blue</td>\n",
       "      <td>275.0</td>\n",
       "    </tr>\n",
       "    <tr>\n",
       "      <th>T1022A05G-Q11</th>\n",
       "      <td>PACKABLE SLIM FLEX STRIPE SUIT - Costume - blue</td>\n",
       "      <td>275.0</td>\n",
       "    </tr>\n",
       "    <tr>\n",
       "      <th>T1022A05T-K11</th>\n",
       "      <td>PIECE WOOL BLEND SLIM SUIT - Costume - blue</td>\n",
       "      <td>275.0</td>\n",
       "    </tr>\n",
       "    <tr>\n",
       "      <th>SC922D00M-702</th>\n",
       "      <td>Veste en cuir - dark brown</td>\n",
       "      <td>225.0</td>\n",
       "    </tr>\n",
       "  </tbody>\n",
       "</table>\n",
       "</div>"
      ],
      "text/plain": [
       "                                                          name  \\\n",
       "sku                                                              \n",
       "DI122T049-K11              L-MAY JACKET - Veste en cuir - blue   \n",
       "CAR22A00I-K11              TROPICAL SLIM SUIT - Costume - blue   \n",
       "T1022A05G-Q11  PACKABLE SLIM FLEX STRIPE SUIT - Costume - blue   \n",
       "T1022A05T-K11      PIECE WOOL BLEND SLIM SUIT - Costume - blue   \n",
       "SC922D00M-702                       Veste en cuir - dark brown   \n",
       "\n",
       "               discount_amount  \n",
       "sku                             \n",
       "DI122T049-K11            298.0  \n",
       "CAR22A00I-K11            275.0  \n",
       "T1022A05G-Q11            275.0  \n",
       "T1022A05T-K11            275.0  \n",
       "SC922D00M-702            225.0  "
      ]
     },
     "execution_count": 46,
     "metadata": {},
     "output_type": "execute_result"
    }
   ],
   "source": [
    "df_men[['name','discount_amount']].sort_values('discount_amount',ascending=False).head()"
   ]
  },
  {
   "cell_type": "code",
   "execution_count": 60,
   "metadata": {},
   "outputs": [
    {
     "data": {
      "text/plain": [
       "'76.8% of total discounts'"
      ]
     },
     "execution_count": 60,
     "metadata": {},
     "output_type": "execute_result"
    }
   ],
   "source": [
    "f\"{round((df_men['price.promotional'].astype(float).sum())/(df_men['price.original'].astype(float).sum())*100,2)}% of total discounts\""
   ]
  }
 ],
 "metadata": {
  "kernelspec": {
   "display_name": "Python 3",
   "language": "python",
   "name": "python3"
  },
  "language_info": {
   "codemirror_mode": {
    "name": "ipython",
    "version": 3
   },
   "file_extension": ".py",
   "mimetype": "text/x-python",
   "name": "python",
   "nbconvert_exporter": "python",
   "pygments_lexer": "ipython3",
   "version": "3.8.3"
  }
 },
 "nbformat": 4,
 "nbformat_minor": 2
}
